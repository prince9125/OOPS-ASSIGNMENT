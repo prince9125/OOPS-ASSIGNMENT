{
  "nbformat": 4,
  "nbformat_minor": 0,
  "metadata": {
    "colab": {
      "provenance": []
    },
    "kernelspec": {
      "name": "python3",
      "display_name": "Python 3"
    },
    "language_info": {
      "name": "python"
    }
  },
  "cells": [
    {
      "cell_type": "markdown",
      "source": [
        "1. What are the five key concepts of Object-Oriented Programming (OOP)?\n",
        "\n",
        "Answer:\n",
        "\n",
        "Inheritance- Allows classes to inherit properties and functions from other classes. This helps reuse code and develop a hierarchical structure among classes.\n",
        "\n",
        "Polymorphism- Allows objects of different classes to be treated as objects of a common base class. This allows code to work with objects without knowing their exact types.\n",
        "\n",
        "Encapsulation- Combines data and methods within a class to protect the data from external interference.\n",
        "\n",
        "Abstraction- Simplifies complex reality by modeling classes on essential properties and behaviors.\n",
        "\n",
        "Constructor-In Python, a constructor is made with the init() method, and it is automatically called when a new object is created."
      ],
      "metadata": {
        "id": "k7dxKCEQzKkb"
      }
    },
    {
      "cell_type": "markdown",
      "source": [
        "2. Write a Python class for a `Car` with attributes for `make`, `model`, and `year`. Include a method to display\n",
        "the car's information.\n",
        "\n",
        "Answer:"
      ],
      "metadata": {
        "id": "_RMn9Kj1zU4k"
      }
    },
    {
      "cell_type": "code",
      "source": [
        "thisdict = {\n",
        "  \"make\": \"Ford\",\n",
        "  \"model\": \"Mustang\",\n",
        "  \"year\": 1974\n",
        "}\n",
        "thisdict.update({\"year\": 2024})\n",
        "print(thisdict)"
      ],
      "metadata": {
        "colab": {
          "base_uri": "https://localhost:8080/"
        },
        "id": "f4PgT5Rg-6K0",
        "outputId": "5db220d2-e095-4311-c417-def0305502a8"
      },
      "execution_count": 1,
      "outputs": [
        {
          "output_type": "stream",
          "name": "stdout",
          "text": [
            "{'make': 'Ford', 'model': 'Mustang', 'year': 2024}\n"
          ]
        }
      ]
    },
    {
      "cell_type": "markdown",
      "source": [
        "3. Explain the difference between instance methods and class methods. Provide an example of each.\n",
        "\n",
        "Answer: Instance methods-These methods are specific to an object and can access both class and instance attributes. They are the default choice for most methods within a class."
      ],
      "metadata": {
        "id": "0JW9wffZ_HVJ"
      }
    },
    {
      "cell_type": "code",
      "source": [
        "class Person:\n",
        "    def __init__(self, name, age):\n",
        "        self.name = name\n",
        "        self.age = age\n",
        "\n",
        "    def introduce(self):\n",
        "        return f\"Hi, I'm {self.name} and I'm {self.age} years old.\"\n",
        "\n",
        "\n",
        "# Creating an instance of the class\n",
        "person1 = Person(\"Prince\", 21)\n",
        "\n",
        "# Calling the instance method\n",
        "print(person1.introduce())  # Output: Hi, I'm Rahul and\n",
        ""
      ],
      "metadata": {
        "colab": {
          "base_uri": "https://localhost:8080/"
        },
        "id": "hOJb7PmQ_Sgc",
        "outputId": "4f7da8a0-d37f-4943-fc60-64be6331c849"
      },
      "execution_count": 2,
      "outputs": [
        {
          "output_type": "stream",
          "name": "stdout",
          "text": [
            "Hi, I'm Prince and I'm 21 years old.\n"
          ]
        }
      ]
    },
    {
      "cell_type": "markdown",
      "source": [
        "Class Method-These methods are not specific to an object and can access class attributes, but not instance attributes. Class methods are used when the method needs to access or modify class-level attributes."
      ],
      "metadata": {
        "id": "EXuDSt9l_XYd"
      }
    },
    {
      "cell_type": "code",
      "source": [
        "class MyClass:\n",
        "    class_variable = 0\n",
        "\n",
        "    def __init__(self, value):\n",
        "        self.instance_variable = value\n",
        "\n",
        "    @classmethod\n",
        "    def class_method(cls, x):\n",
        "        cls.class_variable += x\n",
        "        return cls.class_variable\n",
        "\n",
        "# Creating instances of the class\n",
        "obj1 = MyClass(5)\n",
        "obj2 = MyClass(10)\n",
        "\n",
        "# Calling the class method\n",
        "print(MyClass.class_method(3))  # Output: 8\n",
        "print(MyClass.class_method(7))  # Output: 19"
      ],
      "metadata": {
        "colab": {
          "base_uri": "https://localhost:8080/"
        },
        "id": "Bj4arVe3_et4",
        "outputId": "a9a24c0a-53cc-489b-d222-bca6f5742129"
      },
      "execution_count": 3,
      "outputs": [
        {
          "output_type": "stream",
          "name": "stdout",
          "text": [
            "3\n",
            "10\n"
          ]
        }
      ]
    },
    {
      "cell_type": "markdown",
      "source": [
        "4. How does Python implement method overloading? Give an example.\n",
        "\n",
        "Answe: Two or more methods have the same name but different numbers of parameters or different types of parameters, or both. These methods are called overloaded methods and this is called method overloading."
      ],
      "metadata": {
        "id": "bWoYMcfg_qWE"
      }
    },
    {
      "cell_type": "code",
      "source": [
        "# First product method.\n",
        "# Takes two argument and print their\n",
        "# product\n",
        "\n",
        "\n",
        "def product(a, b):\n",
        "    p = a * b\n",
        "    print(p)\n",
        "\n",
        "# Second product method\n",
        "# Takes three argument and print their\n",
        "# product\n",
        "\n",
        "\n",
        "def product(a, b, c):\n",
        "    p = a * b*c\n",
        "    print(p)\n",
        "\n",
        "# Uncommenting the below line shows an error\n",
        "# product(6, 7)\n",
        "\n",
        "\n",
        "# This line will call the second product method\n",
        "product(6, 7, 7)"
      ],
      "metadata": {
        "colab": {
          "base_uri": "https://localhost:8080/"
        },
        "id": "UfoJixN2_y_s",
        "outputId": "ce1b3cf3-8c6d-4e96-db50-15083e72d455"
      },
      "execution_count": 4,
      "outputs": [
        {
          "output_type": "stream",
          "name": "stdout",
          "text": [
            "294\n"
          ]
        }
      ]
    },
    {
      "cell_type": "code",
      "source": [
        "# Function to take multiple arguments\n",
        "def add(datatype, *args):\n",
        "\n",
        "    # if datatype is int\n",
        "    # initialize answer as 0\n",
        "    if datatype == 'int':\n",
        "        answer = 0\n",
        "\n",
        "    # if datatype is str\n",
        "    # initialize answer as ''\n",
        "    if datatype == 'prince':\n",
        "        answer = ''\n",
        "\n",
        "    # Traverse through the arguments\n",
        "    for x in args:\n",
        "\n",
        "        # This will do addition if the\n",
        "        # arguments are int. Or concatenation\n",
        "        # if the arguments are str\n",
        "        answer = answer + x\n",
        "\n",
        "    print(answer)\n",
        "\n",
        "\n",
        "# Integer\n",
        "add('int', 6, 7)\n",
        "\n",
        "# String\n",
        "add('prince', 'trader ', 'limted')\n"
      ],
      "metadata": {
        "colab": {
          "base_uri": "https://localhost:8080/"
        },
        "id": "sk16uiOdAgR6",
        "outputId": "f1d401af-7155-49e0-b061-0520c375b64f"
      },
      "execution_count": 7,
      "outputs": [
        {
          "output_type": "stream",
          "name": "stdout",
          "text": [
            "13\n",
            "trader limted\n"
          ]
        }
      ]
    },
    {
      "cell_type": "markdown",
      "source": [
        "5. What are the three types of access modifiers in Python? How are they denoted?\n",
        "\n",
        "Answer: Public- The least restrictive modifier, allowing access to members from anywhere in the program.\n",
        "\n",
        "Protected- Allows members to be accessed by members within a class or by its subclasses.\n",
        "\n",
        "Private- The most restrictive modifier, limiting access to members within the same class.\n"
      ],
      "metadata": {
        "id": "SztDWnizArW6"
      }
    },
    {
      "cell_type": "markdown",
      "source": [
        "6. Describe the five types of inheritance in Python. Provide a simple example of multiple inheritance.\n",
        "\n",
        "Answer: Single inheritance enables a derived class to inherit properties from a single parent class, thus enabling code reusability and the addition of new features to existing code."
      ],
      "metadata": {
        "id": "gk-8GLhhA12L"
      }
    },
    {
      "cell_type": "code",
      "source": [
        "# Python program to demonstrate\n",
        "# single inheritance\n",
        "\n",
        "# Base class\n",
        "class Parent:\n",
        "\tdef func1(self):\n",
        "\t\tprint(\"This function is in parent class.\")\n",
        "\n",
        "# Derived class\n",
        "\n",
        "\n",
        "class Child(Parent):\n",
        "\tdef func2(self):\n",
        "\t\tprint(\"This function is in child class.\")\n",
        "\n",
        "\n",
        "# Driver's code\n",
        "object = Child()\n",
        "object.func1()\n",
        "object.func2()\n"
      ],
      "metadata": {
        "colab": {
          "base_uri": "https://localhost:8080/"
        },
        "id": "HtBtUawFA6I5",
        "outputId": "f72257df-50a7-4e48-8d01-e11e18335dfa"
      },
      "execution_count": 8,
      "outputs": [
        {
          "output_type": "stream",
          "name": "stdout",
          "text": [
            "This function is in parent class.\n",
            "This function is in child class.\n"
          ]
        }
      ]
    },
    {
      "cell_type": "markdown",
      "source": [
        "When a class can be derived from more than one base class this type of inheritance is called multiple inheritances. In multiple inheritances, all the features of the base classes are inherited into the derived class."
      ],
      "metadata": {
        "id": "9ajfIDYSBCoS"
      }
    },
    {
      "cell_type": "code",
      "source": [
        "\n",
        "#Example\n",
        "# Python program to demonstrate\n",
        "# multiple inheritance\n",
        "\n",
        "# Base class1\n",
        "class Mother:\n",
        "\tmothername = \"\"\n",
        "\n",
        "\tdef mother(self):\n",
        "\t\tprint(self.mothername)\n",
        "\n",
        "# Base class2\n",
        "\n",
        "\n",
        "class Father:\n",
        "\tfathername = \"\"\n",
        "\n",
        "\tdef father(self):\n",
        "\t\tprint(self.fathername)\n",
        "\n",
        "# Derived class\n",
        "\n",
        "\n",
        "class Son(Mother, Father):\n",
        "\tdef parents(self):\n",
        "\t\tprint(\"Father :\", self.fathername)\n",
        "\t\tprint(\"Mother :\", self.mothername)\n",
        "\n",
        "\n",
        "# Driver's code\n",
        "s1 = Son()\n",
        "s1.fathername = \"RAM\"\n",
        "s1.mothername = \"SITA\"\n",
        "s1.parents()\n"
      ],
      "metadata": {
        "colab": {
          "base_uri": "https://localhost:8080/"
        },
        "id": "mouESNVPB025",
        "outputId": "7943c8ae-10ac-49ee-8cc0-f5867dbee6d7"
      },
      "execution_count": 17,
      "outputs": [
        {
          "output_type": "stream",
          "name": "stdout",
          "text": [
            "Father : RAM\n",
            "Mother : SITA\n"
          ]
        }
      ]
    },
    {
      "cell_type": "markdown",
      "source": [
        "In multilevel inheritance, features of the base class and the derived class are further inherited into the new derived class. This is similar to a relationship representing a child and a grandfather."
      ],
      "metadata": {
        "id": "kQCnaVcRCIZG"
      }
    },
    {
      "cell_type": "code",
      "source": [
        "\n",
        "#Example\n",
        "# Python program to demonstrate\n",
        "# multilevel inheritance\n",
        "\n",
        "# Base class\n",
        "\n",
        "\n",
        "class Grandfather:\n",
        "\n",
        "\tdef __init__(self, grandfathername):\n",
        "\t\tself.grandfathername = grandfathername\n",
        "\n",
        "# Intermediate class\n",
        "\n",
        "\n",
        "class Father(Grandfather):\n",
        "\tdef __init__(self, fathername, grandfathername):\n",
        "\t\tself.fathername = fathername\n",
        "\n",
        "\t\t# invoking constructor of Grandfather class\n",
        "\t\tGrandfather.__init__(self, grandfathername)\n",
        "\n",
        "# Derived class\n",
        "\n",
        "\n",
        "class Son(Father):\n",
        "\tdef __init__(self, sonname, fathername, grandfathername):\n",
        "\t\tself.sonname = sonname\n",
        "\n",
        "\t\t# invoking constructor of Father class\n",
        "\t\tFather.__init__(self, fathername, grandfathername)\n",
        "\n",
        "\tdef print_name(self):\n",
        "\t\tprint('Grandfather name :', self.grandfathername)\n",
        "\t\tprint(\"Father name :\", self.fathername)\n",
        "\t\tprint(\"Son name :\", self.sonname)\n",
        "\n",
        "\n",
        "# Driver code\n",
        "s1 = Son('Prince', 'Shri Sanjay Saw', 'Shri Kallu Saw')\n",
        "print(s1.grandfathername)\n",
        "s1.print_name()"
      ],
      "metadata": {
        "colab": {
          "base_uri": "https://localhost:8080/"
        },
        "id": "oTW2cvBfCMz1",
        "outputId": "31c1693f-96c0-43cc-bf66-db82376ac0ff"
      },
      "execution_count": 20,
      "outputs": [
        {
          "output_type": "stream",
          "name": "stdout",
          "text": [
            "Shri Kallu Saw\n",
            "Grandfather name : Shri Kallu Saw\n",
            "Father name : Shri Sanjay Saw\n",
            "Son name : Prince\n"
          ]
        }
      ]
    },
    {
      "cell_type": "markdown",
      "source": [
        "When more than one derived class are created from a single base this type of inheritance is called hierarchical inheritance. In this program, we have a parent (base) class and two child (derived) classes."
      ],
      "metadata": {
        "id": "VCYHLA7gCf5Y"
      }
    },
    {
      "cell_type": "code",
      "source": [
        "\n",
        "#Example\n",
        "# Python program to demonstrate\n",
        "# Hierarchical inheritance\n",
        "\n",
        "\n",
        "# Base class\n",
        "class Parent:\n",
        "\tdef func1(self):\n",
        "\t\tprint(\"This function is in parent class.\")\n",
        "\n",
        "# Derived class1\n",
        "\n",
        "\n",
        "class Child1(Parent):\n",
        "\tdef func2(self):\n",
        "\t\tprint(\"This function is in child 1.\")\n",
        "\n",
        "# Derivied class2\n",
        "\n",
        "\n",
        "class Child2(Parent):\n",
        "\tdef func3(self):\n",
        "\t\tprint(\"This function is in child 2.\")\n",
        "\n",
        "\n",
        "# Driver's code\n",
        "object1 = Child1()\n",
        "object2 = Child2()\n",
        "object1.func1()\n",
        "object1.func2()\n",
        "object2.func1()\n",
        "object2.func3()"
      ],
      "metadata": {
        "colab": {
          "base_uri": "https://localhost:8080/"
        },
        "id": "z-4Zav-kCkwm",
        "outputId": "1d4d81b8-7f55-41fe-eeaa-b57972930b9a"
      },
      "execution_count": 21,
      "outputs": [
        {
          "output_type": "stream",
          "name": "stdout",
          "text": [
            "This function is in parent class.\n",
            "This function is in child 1.\n",
            "This function is in parent class.\n",
            "This function is in child 2.\n"
          ]
        }
      ]
    },
    {
      "cell_type": "markdown",
      "source": [
        "Hybrid Inheritance: Inheritance consisting of multiple types of inheritance is called hybrid inheritance."
      ],
      "metadata": {
        "id": "N8jIQVy2CoTL"
      }
    },
    {
      "cell_type": "code",
      "source": [
        "\n",
        "#Example\n",
        "# Python program to demonstrate\n",
        "# hybrid inheritance\n",
        "\n",
        "\n",
        "class School:\n",
        "\tdef func1(self):\n",
        "\t\tprint(\"This function is in school.\")\n",
        "\n",
        "\n",
        "class Student1(School):\n",
        "\tdef func2(self):\n",
        "\t\tprint(\"This function is in student 1. \")\n",
        "\n",
        "\n",
        "class Student2(School):\n",
        "\tdef func3(self):\n",
        "\t\tprint(\"This function is in student 2.\")\n",
        "\n",
        "\n",
        "class Student3(Student1, School):\n",
        "\tdef func4(self):\n",
        "\t\tprint(\"This function is in student 3.\")\n",
        "\n",
        "\n",
        "# Driver's code\n",
        "object = Student3()\n",
        "object.func1()\n",
        "object.func2()"
      ],
      "metadata": {
        "colab": {
          "base_uri": "https://localhost:8080/"
        },
        "id": "J4oiGZiPCrTU",
        "outputId": "7829cf40-0953-4dd1-958e-0a01e874669e"
      },
      "execution_count": 22,
      "outputs": [
        {
          "output_type": "stream",
          "name": "stdout",
          "text": [
            "This function is in school.\n",
            "This function is in student 1. \n"
          ]
        }
      ]
    },
    {
      "cell_type": "markdown",
      "source": [
        "7. What is the Method Resolution Order (MRO) in Python? How can you retrieve it programmatically?\n",
        "\n",
        "Answer: Method Resolution Order : Method Resolution Order(MRO) it denotes the way a programming language resolves a method or attribute. Python supports classes inheriting from other classes. The class being inherited is called the Parent or Superclass, while the class that inherits is called the Child or Subclass. In python, method resolution order defines the order in which the base classes are searched when executing a method."
      ],
      "metadata": {
        "id": "PCVGCVYpCuI0"
      }
    },
    {
      "cell_type": "code",
      "source": [
        "\n",
        "#Example\n",
        "class A:\n",
        "    def myname(self):\n",
        "        print(\"I am a class X\")\n",
        "\n",
        "class B(A):\n",
        "    def myname(self):\n",
        "        print(\"I am a class Y\")\n",
        "\n",
        "class C(A):\n",
        "    def myname(self):\n",
        "        print(\"I am a class Z\")\n",
        "c = C()\n",
        "print(c.myname())"
      ],
      "metadata": {
        "colab": {
          "base_uri": "https://localhost:8080/"
        },
        "id": "eyCuMk_dC118",
        "outputId": "079fb013-c8cf-4c7a-e134-f7b480eeba28"
      },
      "execution_count": 23,
      "outputs": [
        {
          "output_type": "stream",
          "name": "stdout",
          "text": [
            "I am a class Z\n",
            "None\n"
          ]
        }
      ]
    },
    {
      "cell_type": "markdown",
      "source": [
        "8. Create an abstract base class Shape with an abstract method area(). Then create two subclasses Circle and Rectangle that implement the area() method.\n",
        "\n",
        "Answer:\n"
      ],
      "metadata": {
        "id": "QoQpEWZ1C_PA"
      }
    },
    {
      "cell_type": "code",
      "source": [
        "\n",
        "# define a function for calculating\n",
        "# the area of a shapes\n",
        "def calculate_area(name):\\\n",
        "\n",
        "# converting all characters\n",
        "# into lower cases\n",
        "name = name.lower()\n",
        "\n",
        "# check for the conditions\n",
        "if name == \"rectangle\":\n",
        "\tl = int(input(\"Enter rectangle's length: \"))\n",
        "\tb = int(input(\"Enter rectangle's breadth: \"))\n",
        "\n",
        "\t# calculate area of rectangle\n",
        "\trect_area = l * b\n",
        "\tprint (f) \" The area of rectangle is\n",
        "\t\t{rect_area}.\")\n",
        "\n",
        "elif name == \"square\":\n",
        "\ts = int(input(\"Enter square's side length: \"))\n",
        "\n",
        "\t# calculate area of square\n",
        "\tsqt_area = s * s\n",
        "\tprint(f\"The area of square is\n",
        "\t\t{sqt_area}.\")\n",
        "\n",
        "elif name == \"triangle\":\n",
        "\th = int(input(\"Enter triangle's height length: \"))\n",
        "\tb = int(input(\"Enter triangle's breadth length: \"))\n",
        "\n",
        "\t# calculate area of triangle\n",
        "\ttri_area = 0.5 * b * h\n",
        "\tprint(f\"The area of triangle is\n",
        "\t\t{tri_area}.\")\n",
        "\n",
        "elif name == \"circle\":\n",
        "\tr = int(input(\"Enter circle's radius length: \"))\n",
        "\tpi = 3.14\n",
        "\n",
        "\t# calculate area of circle\n",
        "\tcirc_area = pi * r * r\n",
        "\tprint(f\"The area of circle is\n",
        "\t\t{circ_area}.\")\n",
        "\n",
        "elif name == 'parallelogram':\n",
        "\tb = int(input(\"Enter parallelogram's base length: \"))\n",
        "\th = int(input(\"Enter parallelogram's height length: \"))\n",
        "\n",
        "\t# calculate area of parallelogram\n",
        "\tpara_area = b * h\n",
        "\tprint(f\"The area of parallelogram is\n",
        "\t\t{para_area}.\")\n",
        "\n",
        "else:\n",
        "\tprint(\"Sorry! This shape is not available\")\n",
        "\n",
        "# driver code\n",
        "if __name__ == \"__main__\" :\n",
        "\n",
        "print(\"Calculate Shape Area\")\n",
        "shape_name = input(\"Enter the name of shape whose area you want to find: \")\n",
        "\n",
        "# function calling\n",
        "calculate_area(shape_name)"
      ],
      "metadata": {
        "colab": {
          "base_uri": "https://localhost:8080/",
          "height": 106
        },
        "id": "bJiod4DSDKWw",
        "outputId": "cccb8d61-766a-40e5-e05d-60371aa9e59a"
      },
      "execution_count": 25,
      "outputs": [
        {
          "output_type": "error",
          "ename": "SyntaxError",
          "evalue": "unterminated string literal (detected at line 16) (<ipython-input-25-011ce1862eb0>, line 16)",
          "traceback": [
            "\u001b[0;36m  File \u001b[0;32m\"<ipython-input-25-011ce1862eb0>\"\u001b[0;36m, line \u001b[0;32m16\u001b[0m\n\u001b[0;31m    print (f) \" The area of rectangle is\u001b[0m\n\u001b[0m              ^\u001b[0m\n\u001b[0;31mSyntaxError\u001b[0m\u001b[0;31m:\u001b[0m unterminated string literal (detected at line 16)\n"
          ]
        }
      ]
    },
    {
      "cell_type": "markdown",
      "source": [
        "9. Demonstrate polymorphism by creating a function that can work with different shape objects to calculate and print their areas.\n",
        "\n",
        "Answer: The word polymorphism means having many forms. In programming, polymorphism means the same function name (but different signatures) being used for different types."
      ],
      "metadata": {
        "id": "rTtPrEdGDa5t"
      }
    },
    {
      "cell_type": "code",
      "source": [
        "\n",
        "#Example\n",
        "# A simple Python function to demonstrate\n",
        "# Polymorphism\n",
        "\n",
        "def add(x, y, z = 0):\n",
        "    return x + y+z\n",
        "\n",
        "# Driver code\n",
        "print(add(6, 7))\n",
        "print(add(6, 7, 7))"
      ],
      "metadata": {
        "colab": {
          "base_uri": "https://localhost:8080/"
        },
        "id": "-pawA2eODgpM",
        "outputId": "7526ba7c-fa45-40af-d6a3-d02351b53c7d"
      },
      "execution_count": 26,
      "outputs": [
        {
          "output_type": "stream",
          "name": "stdout",
          "text": [
            "13\n",
            "20\n"
          ]
        }
      ]
    },
    {
      "cell_type": "code",
      "source": [
        "\n",
        "#Example\n",
        "class India():\n",
        "    def capital(self):\n",
        "        print(\"Karnataka is the largest coffee-producing state of India.\")\n",
        "\n",
        "    def language(self):\n",
        "        print(\"Jawaharlal Nehru was the first Prime Minister of India.\")\n",
        "\n",
        "    def type(self):\n",
        "        print(\"India is a developing country.\")\n",
        "\n",
        "class USA():\n",
        "    def capital(self):\n",
        "        print(\"Washington, D.C. is the capital of USA.\")\n",
        "\n",
        "    def language(self):\n",
        "        print(\"English is the primary language of USA.\")\n",
        "\n",
        "    def type(self):\n",
        "        print(\"USA is a developed country.\")\n",
        "\n",
        "obj_ind = India()\n",
        "obj_usa = USA()\n",
        "for country in (obj_ind, obj_usa):\n",
        "    country.capital()\n",
        "    country.language()\n",
        "    country.type()"
      ],
      "metadata": {
        "colab": {
          "base_uri": "https://localhost:8080/"
        },
        "id": "CNHcLg4KDrzV",
        "outputId": "8224bafe-67f7-4653-f374-0ee6187c26b8"
      },
      "execution_count": 29,
      "outputs": [
        {
          "output_type": "stream",
          "name": "stdout",
          "text": [
            "Karnataka is the largest coffee-producing state of India.\n",
            "Jawaharlal Nehru was the first Prime Minister of India.\n",
            "India is a developing country.\n",
            "Washington, D.C. is the capital of USA.\n",
            "English is the primary language of USA.\n",
            "USA is a developed country.\n"
          ]
        }
      ]
    },
    {
      "cell_type": "markdown",
      "source": [
        "10. Implement encapsulation in a BankAccount class with private attributes for balance and account_number. Include methods for deposit, withdrawal, and balance inquery.\n",
        "\n",
        "Answer:"
      ],
      "metadata": {
        "id": "gHChoNKYE-kz"
      }
    },
    {
      "cell_type": "code",
      "source": [
        "\n",
        "# Python program to create Bankaccount class\n",
        "# with both a deposit() and a withdraw() function\n",
        "class Bank_Account:\n",
        "\tdef __init__(self):\n",
        "\t\tself.balance=0\n",
        "\t\tprint(\"Hello!!! Welcome to the Deposit & Withdrawal Machine\")\n",
        "\n",
        "\tdef deposit(self):\n",
        "\t\tamount=float(input(\"Enter amount to be Deposited: \"))\n",
        "\t\tself.balance += amount\n",
        "\t\tprint(\"\\n Amount Deposited:\",amount)\n",
        "\n",
        "\tdef withdraw(self):\n",
        "\t\tamount = float(input(\"Enter amount to be Withdrawn: \"))\n",
        "\t\tif self.balance>=amount:\n",
        "\t\t\tself.balance-=amount\n",
        "\t\t\tprint(\"\\n You Withdrew:\", amount)\n",
        "\t\telse:\n",
        "\t\t\tprint(\"\\n Insufficient balance \")\n",
        "\n",
        "\tdef display(self):\n",
        "\t\tprint(\"\\n Net Available Balance=\",self.balance)\n",
        "\n",
        "# Driver code\n",
        "\n",
        "# creating an object of class\n",
        "s = Bank_Account()\n",
        "\n",
        "# Calling functions with that class object\n",
        "s.deposit()\n",
        "s.withdraw()\n",
        "s.display()"
      ],
      "metadata": {
        "colab": {
          "base_uri": "https://localhost:8080/"
        },
        "id": "JyAgcV7BFl2r",
        "outputId": "b20583f8-6d49-4b47-c99b-5647e2cbf15b"
      },
      "execution_count": 2,
      "outputs": [
        {
          "output_type": "stream",
          "name": "stdout",
          "text": [
            "Hello!!! Welcome to the Deposit & Withdrawal Machine\n",
            "Enter amount to be Deposited: 7000\n",
            "\n",
            " Amount Deposited: 7000.0\n",
            "Enter amount to be Withdrawn: 4500\n",
            "\n",
            " You Withdrew: 4500.0\n",
            "\n",
            " Net Available Balance= 2500.0\n"
          ]
        }
      ]
    },
    {
      "cell_type": "markdown",
      "source": [
        "11. Write a class that overrides the __str__ and __add__ magic methods. What will these methods allow you to do?\n",
        "\n",
        "Answer:"
      ],
      "metadata": {
        "id": "0p-GBzL9Fs8p"
      }
    },
    {
      "cell_type": "code",
      "source": [
        "\n",
        "#Example\n",
        "class MagicNumber:\n",
        "\n",
        "  def __init__(self, x):\n",
        "    self.x = x\n",
        "\n",
        "  def __add__(self, other):\n",
        "    if self.x == 3:\n",
        "      print('Trick!')\n",
        "      return 42\n",
        "    else:\n",
        "      return self.x + other.x\n",
        "\n",
        "a = MagicNumber(7)\n",
        "b = MagicNumber(3)\n",
        "\n",
        "print(a + b)\n",
        "print(b + a)"
      ],
      "metadata": {
        "colab": {
          "base_uri": "https://localhost:8080/"
        },
        "id": "RhA0uyiCFwKt",
        "outputId": "3959a13e-e006-4941-8bcd-ecb757a0dde3"
      },
      "execution_count": 4,
      "outputs": [
        {
          "output_type": "stream",
          "name": "stdout",
          "text": [
            "10\n",
            "Trick!\n",
            "42\n"
          ]
        }
      ]
    },
    {
      "cell_type": "code",
      "source": [
        "\n",
        "#Example\n",
        "# declare our own string class\n",
        "class String:\n",
        "\n",
        "    # magic method to initiate object\n",
        "    def __init__(self, string):\n",
        "        self.string = string\n",
        "\n",
        "    # print our string object\n",
        "    def __repr__(self):\n",
        "        return 'Object: {}'.format(self.string)\n",
        "\n",
        "# Driver Code\n",
        "if __name__ == '__main__':\n",
        "\n",
        "    # object creation\n",
        "    string1 = String('Hey Everyone')\n",
        "\n",
        "    # print object location\n",
        "    print(string1)\n"
      ],
      "metadata": {
        "colab": {
          "base_uri": "https://localhost:8080/"
        },
        "id": "GaOnBbd4GDer",
        "outputId": "7045f374-bb7d-4920-81f1-f8f6268e7f09"
      },
      "execution_count": 5,
      "outputs": [
        {
          "output_type": "stream",
          "name": "stdout",
          "text": [
            "Object: Hey Everyone\n"
          ]
        }
      ]
    },
    {
      "cell_type": "markdown",
      "source": [
        "12. Create a decorator that measures and prints the execution time of a function.\n",
        "\n",
        "Answer: Decorator: A decorator is used to supercharge or modify a function. A decorator is a higher-order function that wraps another function and enhances it or changes it."
      ],
      "metadata": {
        "id": "XoPSffcLGIn-"
      }
    },
    {
      "cell_type": "code",
      "source": [
        "\n",
        "from time import time\n",
        "\n",
        "\n",
        "def timer_func(func):\n",
        "\t# This function shows the execution time of\n",
        "\t# the function object passed\n",
        "\tdef wrap_func(*args, **kwargs):\n",
        "\t\tt1 = time()\n",
        "\t\tresult = func(*args, **kwargs)\n",
        "\t\tt2 = time()\n",
        "\t\tprint(f'Function {func.__name__!r} executed in {(t2-t1):.4f}s')\n",
        "\t\treturn result\n",
        "\treturn wrap_func\n",
        "\n",
        "\n",
        "@timer_func\n",
        "def long_time(n):\n",
        "\tfor i in range(n):\n",
        "\t\tfor j in range(1000000):\n",
        "\t\t\ti*j\n",
        "\n",
        "\n",
        "long_time(6)"
      ],
      "metadata": {
        "colab": {
          "base_uri": "https://localhost:8080/"
        },
        "id": "33x420_dGMsV",
        "outputId": "f9c5ee2f-87ea-4fef-e647-1f0dbfa9951e"
      },
      "execution_count": 6,
      "outputs": [
        {
          "output_type": "stream",
          "name": "stdout",
          "text": [
            "Function 'long_time' executed in 0.3687s\n"
          ]
        }
      ]
    },
    {
      "cell_type": "markdown",
      "source": [
        "13. Explain the concept of the Diamond Problem in multiple inheritance. How does Python resolve it?\n",
        "\n",
        "Answer:"
      ],
      "metadata": {
        "id": "TV10vgvPGU7H"
      }
    },
    {
      "cell_type": "code",
      "source": [
        "\n",
        "class A:\n",
        "    def display(self):\n",
        "        print(\"Display method from class A\")\n",
        "\n",
        "class B(A):\n",
        "    def display(self):\n",
        "        print(\"Display method from class B\")\n",
        "\n",
        "class C(A):\n",
        "    def display(self):\n",
        "        print(\"Display method from class C\")\n",
        "\n",
        "class D(B, C):\n",
        "    pass\n",
        "\n",
        "d = D()\n",
        "d.display()"
      ],
      "metadata": {
        "colab": {
          "base_uri": "https://localhost:8080/"
        },
        "id": "tgoAo2w9GkVK",
        "outputId": "0d02596b-1c0f-40f7-bfd3-4081fee78401"
      },
      "execution_count": 8,
      "outputs": [
        {
          "output_type": "stream",
          "name": "stdout",
          "text": [
            "Display method from class B\n"
          ]
        }
      ]
    },
    {
      "cell_type": "markdown",
      "source": [
        "14. Write a class method that keeps track of the number of instances created from a class."
      ],
      "metadata": {
        "id": "19ilVm0UGlhx"
      }
    },
    {
      "cell_type": "code",
      "source": [
        "\n",
        "# code\n",
        "class geeks:\n",
        "\n",
        "\t# this is used to print the number\n",
        "\t# of instances of a class\n",
        "\tcounter = 0\n",
        "\n",
        "\t# constructor of geeks class\n",
        "\tdef __init__(self):\n",
        "\n",
        "\t\t# increment\n",
        "\t\tgeeks.counter += 1\n",
        "\n",
        "\n",
        "# object or instance of geeks class\n",
        "g1 = geeks()\n",
        "g2 = geeks()\n",
        "g3 = geeks()\n",
        "print(geeks.counter)\n",
        "\n",
        ""
      ],
      "metadata": {
        "colab": {
          "base_uri": "https://localhost:8080/"
        },
        "id": "rjM7va_ZGnsr",
        "outputId": "bee5c59f-adc2-4b41-9451-dc8150b3b787"
      },
      "execution_count": 9,
      "outputs": [
        {
          "output_type": "stream",
          "name": "stdout",
          "text": [
            "3\n"
          ]
        }
      ]
    },
    {
      "cell_type": "markdown",
      "source": [
        "15. Implement a static method in a class that checks if a given year is a leap year.\n",
        "\n",
        "Answer:\n"
      ],
      "metadata": {
        "id": "T3o-a7ZYGvt5"
      }
    },
    {
      "cell_type": "code",
      "source": [
        "\n",
        "# Python3 implementation to check\n",
        "# if the year is a leap year\n",
        "# using macros\n",
        "\n",
        "# Macro to check if a year\n",
        "# is a leap year\n",
        "def ISLP(y):\n",
        "  if((y % 400 == 0) or\n",
        "     (y % 100 != 0) and\n",
        "     (y % 4 == 0)):\n",
        "    return 1;\n",
        "  else:\n",
        "    return 0;\n",
        "\n",
        "# Driver code\n",
        "if __name__=='__main__':\n",
        "\n",
        "  year = 2024;\n",
        "  print(ISLP(year));\n",
        "\n",
        "  # This code is contributed by  Pratham76."
      ],
      "metadata": {
        "id": "qQfyTwNzG0SL",
        "outputId": "a916c88c-551b-4d4c-a6d5-c6f542bb503d",
        "colab": {
          "base_uri": "https://localhost:8080/"
        }
      },
      "execution_count": 10,
      "outputs": [
        {
          "output_type": "stream",
          "name": "stdout",
          "text": [
            "1\n"
          ]
        }
      ]
    }
  ]
}